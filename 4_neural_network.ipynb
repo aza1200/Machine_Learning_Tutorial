{
 "cells": [
  {
   "cell_type": "code",
   "execution_count": 1,
   "id": "87b97548",
   "metadata": {},
   "outputs": [],
   "source": [
    "# 파이토치에서 의 모델 정의\n",
    "\n",
    "# 계층 : 모듈 또는 모듈을 구성하는 한 개의 계층으로 합성곱층, 선형계층 있다.\n",
    "# 모듈: 한개 이상의 계층이 모여서 된것, 모듈이 모여서 새로운 모듈을 만들수있따. \n",
    "# 모델: 최종적으로 원하는 네트워크로, 한개의 모듈이 모델이 될수도 있다. \n",
    "\n",
    "\n",
    "# 신경망은 데이터에 대한 연산을 수행하는 계층(layer)/모듈(module)로 구성되어 있습니다. \n",
    "# torch.nn 네임스페이스는 신경망을 구성하는데 필요한 모든 구성 요소를 제공합니다. \n",
    "\n",
    "# PyTorch의 모든 모듈은 nn.Module 의 하위 클래스(subclass) 입니다. \n",
    "# 신경망은 다른 모듈(계층; layer)로 구성된 모듈입니다. \n",
    "# 이러한 중첩된 구조는 복잡한 아키텍처를 쉽게 구축하고 관리할 수 있습니다.\n",
    "\n",
    "# 이어지는 장에서는 FashionMNIST 데이터셋의 이미지들을 분류하는 신경망을 구성해보겠습니다.\n",
    "\n",
    "import os\n",
    "import torch\n",
    "from torch import nn\n",
    "from torch.utils.data import DataLoader\n",
    "from torchvision import datasets, transforms"
   ]
  },
  {
   "cell_type": "code",
   "execution_count": 2,
   "id": "b268a7d2",
   "metadata": {},
   "outputs": [
    {
     "name": "stdout",
     "output_type": "stream",
     "text": [
      "Using cpu device\n"
     ]
    }
   ],
   "source": [
    "device = \"cuda\" if torch.cuda.is_available() else \"cpu\"\n",
    "print(f\"Using {device} device\")"
   ]
  },
  {
   "cell_type": "code",
   "execution_count": 5,
   "id": "a6c674d3",
   "metadata": {},
   "outputs": [
    {
     "name": "stdout",
     "output_type": "stream",
     "text": [
      "NeuralNetwork(\n",
      "  (flatten): Flatten(start_dim=1, end_dim=-1)\n",
      "  (linear_relu_stack): Sequential(\n",
      "    (0): Linear(in_features=784, out_features=512, bias=True)\n",
      "    (1): ReLU()\n",
      "    (2): Linear(in_features=512, out_features=512, bias=True)\n",
      "    (3): ReLU()\n",
      "    (4): Linear(in_features=512, out_features=10, bias=True)\n",
      "  )\n",
      ")\n"
     ]
    }
   ],
   "source": [
    "# 클래스 정의하기\n",
    "# 신경망 모델을 nn.Module 의 하위클래스로 정의하고,\n",
    "# __init__ 에서 신경망 계층들을 초기화합니다. \n",
    "# nn.Module 을 상속받은 모든 클래스는 forward 메소드에\n",
    "# 입력 데이터에 대한 연산들을 구현합니다.\n",
    "\n",
    "class NeuralNetwork(nn.Module):\n",
    "    def __init__(self):\n",
    "        super(NeuralNetwork, self).__init__()\n",
    "        self.flatten = nn.Flatten()\n",
    "        self.linear_relu_stack = nn.Sequential(\n",
    "            nn.Linear(28*28, 512),\n",
    "            nn.ReLU(),\n",
    "            nn.Linear(512, 512),\n",
    "            nn.ReLU(),\n",
    "            nn.Linear(512, 10),\n",
    "        )\n",
    "\n",
    "    def forward(self, x):\n",
    "        x = self.flatten(x)\n",
    "        logits = self.linear_relu_stack(x)\n",
    "        return logits\n",
    "\n",
    "model = NeuralNetwork().to(device)\n",
    "print(model)"
   ]
  },
  {
   "cell_type": "code",
   "execution_count": 11,
   "id": "0678af93",
   "metadata": {},
   "outputs": [
    {
     "name": "stdout",
     "output_type": "stream",
     "text": [
      "tensor([[-0.0166,  0.0314, -0.0605, -0.0164,  0.0262,  0.0417, -0.0387, -0.0495,\n",
      "         -0.0201,  0.0150]], grad_fn=<AddmmBackward0>)\n",
      "tensor([[0.0992, 0.1040, 0.0949, 0.0992, 0.1035, 0.1051, 0.0970, 0.0959, 0.0988,\n",
      "         0.1023]], grad_fn=<SoftmaxBackward0>)\n",
      "Predicted class: tensor([5])\n"
     ]
    }
   ],
   "source": [
    "# 모델을 사용하기 위해 입력 데이터를 전달합니다.\n",
    "# 이는 일부 백그라운드 연산들 과 함께 모델의 forward 를 실행합니다. \n",
    "# model.forward() 를 직접 호출하지 마세요!\n",
    "\n",
    "# 모델에 입력을 전달하여 호출하면 2차원 텐서를 반환합니다. \n",
    "# 2차원 텐서의 dim=0은 각 분류(class)에 대한 원시(raw) 예측값 10개가,\n",
    "# dim=1에는 각 출력의 개별 값들이 해당합니다.\n",
    "# 원시 예측값을 nn.Softmax 모듈의 인스턴스에 통과시켜 예측 확률을 얻습니다.\n",
    "\n",
    "\n",
    "X = torch.rand(1, 28, 28, device=device)\n",
    "logits = model(X)\n",
    "pred_probab = nn.Softmax(dim=1)(logits)\n",
    "print(pred_probab)\n",
    "y_pred = pred_probab.argmax(1)\n",
    "print(f\"Predicted class: {y_pred}\")"
   ]
  },
  {
   "cell_type": "code",
   "execution_count": 8,
   "id": "81960b0d",
   "metadata": {},
   "outputs": [
    {
     "name": "stdout",
     "output_type": "stream",
     "text": [
      "torch.Size([3, 28, 28])\n"
     ]
    }
   ],
   "source": [
    "# 모델 계층(Layer)\n",
    "# FashionMNIST 모델의 계층들을 살펴보겠습니다. \n",
    "# 이를 설명하기 위해, 28x28 크기의 이미지 3개로 구성된 미니배치를 \n",
    "# 가져와, 신경망을 통과할 때 어떤 일이 발생하는지 알아보겠습니다.\n",
    "\n",
    "input_image = torch.rand(3,28,28)\n",
    "print(input_image.size())"
   ]
  },
  {
   "cell_type": "code",
   "execution_count": 9,
   "id": "875cfe5a",
   "metadata": {},
   "outputs": [
    {
     "name": "stdout",
     "output_type": "stream",
     "text": [
      "torch.Size([3, 784])\n"
     ]
    }
   ],
   "source": [
    "# nn.Flatten\n",
    "# nn.Flatten 계층을 초기화하여 \n",
    "# 각 28x28의 2D 이미지를 784 픽셀 값을 갖는 연속된 배열로 변환합니다. \n",
    "# (dim=0의 미니배치 차원은 유지됩니다.)\n",
    "\n",
    "flatten = nn.Flatten()\n",
    "flat_image = flatten(input_image)\n",
    "print(flat_image.size())"
   ]
  },
  {
   "cell_type": "code",
   "execution_count": 10,
   "id": "c8bd05d0",
   "metadata": {},
   "outputs": [
    {
     "name": "stdout",
     "output_type": "stream",
     "text": [
      "torch.Size([3, 20])\n"
     ]
    }
   ],
   "source": [
    "# nn.Linear\n",
    "# 선형 계층 은 저장된 가중치(weight)와 편향(bias)을 사용하여 \n",
    "# 입력에 선형 변환(linear transformation)을 적용하는 모듈입니다.\n",
    "\n",
    "\n",
    "layer1 = nn.Linear(in_features=28*28, out_features=20)\n",
    "hidden1 = layer1(flat_image)\n",
    "print(hidden1.size())"
   ]
  },
  {
   "cell_type": "code",
   "execution_count": 11,
   "id": "1a46b86f",
   "metadata": {},
   "outputs": [
    {
     "name": "stdout",
     "output_type": "stream",
     "text": [
      "Before ReLU: tensor([[ 0.1371, -0.1086, -0.0744,  0.4058, -0.0051, -0.1039, -0.3381,  0.0286,\n",
      "         -0.0059, -0.0684,  0.3118,  0.3865,  0.8160,  0.0628,  0.1784,  0.4473,\n",
      "          0.0912, -0.2312,  0.6481, -0.4300],\n",
      "        [-0.0612,  0.1155, -0.0320,  0.4041, -0.0189, -0.4277, -0.0489, -0.4132,\n",
      "         -0.4923,  0.0979,  0.4057,  0.4449,  0.8338, -0.0227,  0.0515,  0.4630,\n",
      "          0.0968, -0.2208,  0.5646,  0.3240],\n",
      "        [-0.0251,  0.1190, -0.1727,  0.4327,  0.0871, -0.3950, -0.3111, -0.1445,\n",
      "          0.3360,  0.0712,  0.1996,  0.6683,  0.9212, -0.2042,  0.0240,  0.4750,\n",
      "          0.0121, -0.3972,  0.7208, -0.1379]], grad_fn=<AddmmBackward0>)\n",
      "\n",
      "\n",
      "After ReLU: tensor([[0.1371, 0.0000, 0.0000, 0.4058, 0.0000, 0.0000, 0.0000, 0.0286, 0.0000,\n",
      "         0.0000, 0.3118, 0.3865, 0.8160, 0.0628, 0.1784, 0.4473, 0.0912, 0.0000,\n",
      "         0.6481, 0.0000],\n",
      "        [0.0000, 0.1155, 0.0000, 0.4041, 0.0000, 0.0000, 0.0000, 0.0000, 0.0000,\n",
      "         0.0979, 0.4057, 0.4449, 0.8338, 0.0000, 0.0515, 0.4630, 0.0968, 0.0000,\n",
      "         0.5646, 0.3240],\n",
      "        [0.0000, 0.1190, 0.0000, 0.4327, 0.0871, 0.0000, 0.0000, 0.0000, 0.3360,\n",
      "         0.0712, 0.1996, 0.6683, 0.9212, 0.0000, 0.0240, 0.4750, 0.0121, 0.0000,\n",
      "         0.7208, 0.0000]], grad_fn=<ReluBackward0>)\n"
     ]
    }
   ],
   "source": [
    "# nn.ReLU\n",
    "# 비선형 활성화(activation)는 모델의 입력과 출력 사이에 복잡한 관계(mapping)\n",
    "# 를 만듭니다. 비선형 활성화는 선형 변환 후에 적용되어 \n",
    "# 비선형성(nonlinearity) 을 도입하고, \n",
    "# 신경망이 다양한 현상을 학습할 수 있도록 돕습니다.\n",
    "\n",
    "\n",
    "# 이 모델에서는 nn.ReLU 를 선형 계층들 사이에 사용하지만, \n",
    "# 모델을 만들 때는 비선형성을 가진 다른 활성화를 도입할 수도 있습니다.\n",
    "\n",
    "print(f\"Before ReLU: {hidden1}\\n\\n\")\n",
    "hidden1 = nn.ReLU()(hidden1)\n",
    "print(f\"After ReLU: {hidden1}\")\n"
   ]
  },
  {
   "cell_type": "code",
   "execution_count": 12,
   "id": "f07c3cad",
   "metadata": {},
   "outputs": [],
   "source": [
    "# nn.Sequential 은 순서를 갖는 모듈의 컨테이너입니다. \n",
    "# 데이터는 정의된 것과 같은 순서로 모든 모듈들을 통해 전달됩니다. \n",
    "# 순차 컨테이너(sequential container)를 사용하여 \n",
    "# 아래의 seq_modules 와 같은 신경망을 빠르게 만들 수 있습니다.\n",
    "\n",
    "seq_modules = nn.Sequential(\n",
    "    flatten,\n",
    "    layer1,\n",
    "    nn.ReLU(),\n",
    "    nn.Linear(20, 10)\n",
    ")\n",
    "input_image = torch.rand(3,28,28)\n",
    "logits = seq_modules(input_image)"
   ]
  },
  {
   "cell_type": "code",
   "execution_count": 13,
   "id": "5d986d64",
   "metadata": {},
   "outputs": [],
   "source": [
    "# nn.Softmax\n",
    "# 신경망의 마지막 선형 계층은 nn.Softmax 모듈에 \n",
    "# 전달될 ([-infty, infty] 범위의 원시 값(raw value)인) logits 를 반환합니다. \n",
    "# logits는 모델의 각 분류(class)에 대한 예측 확률을 나타내도록\n",
    "# [0, 1] 범위로 비례하여 조정(scale)됩니다. \n",
    "# dim 매개변수는 값의 합이 1이 되는 차원을 나타냅니다.\n",
    "\n",
    "softmax = nn.Softmax(dim=1)\n",
    "pred_probab = softmax(logits)"
   ]
  },
  {
   "cell_type": "code",
   "execution_count": 14,
   "id": "4c01700d",
   "metadata": {},
   "outputs": [
    {
     "name": "stdout",
     "output_type": "stream",
     "text": [
      "Model structure: NeuralNetwork(\n",
      "  (flatten): Flatten(start_dim=1, end_dim=-1)\n",
      "  (linear_relu_stack): Sequential(\n",
      "    (0): Linear(in_features=784, out_features=512, bias=True)\n",
      "    (1): ReLU()\n",
      "    (2): Linear(in_features=512, out_features=512, bias=True)\n",
      "    (3): ReLU()\n",
      "    (4): Linear(in_features=512, out_features=10, bias=True)\n",
      "  )\n",
      ")\n",
      "\n",
      "\n",
      "Layer: linear_relu_stack.0.weight | Size: torch.Size([512, 784]) | Values : tensor([[ 0.0299, -0.0163, -0.0299,  ...,  0.0268,  0.0040,  0.0062],\n",
      "        [-0.0270,  0.0079, -0.0013,  ...,  0.0313, -0.0032,  0.0337]],\n",
      "       grad_fn=<SliceBackward0>) \n",
      "\n",
      "Layer: linear_relu_stack.0.bias | Size: torch.Size([512]) | Values : tensor([ 0.0048, -0.0006], grad_fn=<SliceBackward0>) \n",
      "\n",
      "Layer: linear_relu_stack.2.weight | Size: torch.Size([512, 512]) | Values : tensor([[ 0.0381,  0.0247, -0.0141,  ...,  0.0380,  0.0423,  0.0272],\n",
      "        [ 0.0055, -0.0289,  0.0165,  ..., -0.0093, -0.0159, -0.0095]],\n",
      "       grad_fn=<SliceBackward0>) \n",
      "\n",
      "Layer: linear_relu_stack.2.bias | Size: torch.Size([512]) | Values : tensor([-0.0200, -0.0399], grad_fn=<SliceBackward0>) \n",
      "\n",
      "Layer: linear_relu_stack.4.weight | Size: torch.Size([10, 512]) | Values : tensor([[ 0.0331,  0.0395,  0.0012,  ..., -0.0334, -0.0352, -0.0039],\n",
      "        [ 0.0359,  0.0040, -0.0083,  ...,  0.0344,  0.0286, -0.0279]],\n",
      "       grad_fn=<SliceBackward0>) \n",
      "\n",
      "Layer: linear_relu_stack.4.bias | Size: torch.Size([10]) | Values : tensor([0.0271, 0.0178], grad_fn=<SliceBackward0>) \n",
      "\n"
     ]
    }
   ],
   "source": [
    "# 모델 매개변수\n",
    "# 신경망 내부의 많은 계층들은 매개변수화(parameterize) 됩니다.\n",
    "# 즉, 학습 중에 최적화되는 가중치와 편향과 연관지어집니다. \n",
    "# nn.Module 을 상속하면 모델 객체 내부의 모든 필드들이 자동으로 추적(track)되며,\n",
    "# 모델의 parameters() 및 named_parameters() 메소드로 \n",
    "# 모든 매개변수에 접근할 수 있게 됩니다.\n",
    "\n",
    "# 이 예제에서는 각 매개변수들을 순회하며(iterate), \n",
    "# 매개변수의 크기와 값을 출력합니다.\n",
    "\n",
    "print(f\"Model structure: {model}\\n\\n\")\n",
    "\n",
    "for name, param in model.named_parameters():\n",
    "    print(f\"Layer: {name} | Size: {param.size()} | Values : {param[:2]} \\n\")"
   ]
  }
 ],
 "metadata": {
  "kernelspec": {
   "display_name": "Python 3.9.13 ('base')",
   "language": "python",
   "name": "python3"
  },
  "language_info": {
   "codemirror_mode": {
    "name": "ipython",
    "version": 3
   },
   "file_extension": ".py",
   "mimetype": "text/x-python",
   "name": "python",
   "nbconvert_exporter": "python",
   "pygments_lexer": "ipython3",
   "version": "3.9.13"
  },
  "vscode": {
   "interpreter": {
    "hash": "ad2bdc8ecc057115af97d19610ffacc2b4e99fae6737bb82f5d7fb13d2f2c186"
   }
  }
 },
 "nbformat": 4,
 "nbformat_minor": 5
}
