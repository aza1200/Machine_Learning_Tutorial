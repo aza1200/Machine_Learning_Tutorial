{
 "cells": [
  {
   "cell_type": "code",
   "execution_count": null,
   "metadata": {},
   "outputs": [],
   "source": [
    "# 필요 기초지식 \n",
    "\n",
    "# 1. 행렬과 선형변환  https://angeloyeo.github.io/2019/07/15/Matrix_as_Linear_Transformation.html\n",
    "# 2. 행렬식의 기하학적 의미 https://angeloyeo.github.io/2019/08/06/determinant.html\n",
    "# 3. 중적분 https://angeloyeo.github.io/2020/07/30/multiple_integral.html\n",
    "\n",
    "# https://www.youtube.com/watch?v=usUD4JJruTM&t=57s\n",
    "\n",
    "# 4. 전미분이란?\n",
    "# ● http://www.sigmapress.co.kr/shop/shop_image/g17812_1405051763.pdf\n",
    "# ● https://velog.io/@swan9405/%ED%8E%B8%EB%AF%B8%EB%B6%84%EA%B3%BC-%EC%A0%84%EB%AF%B8%EB%B6%84\n",
    "\n",
    "\n"
   ]
  }
 ],
 "metadata": {
  "language_info": {
   "name": "python"
  },
  "orig_nbformat": 4
 },
 "nbformat": 4,
 "nbformat_minor": 2
}
