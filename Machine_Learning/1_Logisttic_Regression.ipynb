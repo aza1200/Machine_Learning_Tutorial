{
 "cells": [
  {
   "cell_type": "markdown",
   "metadata": {},
   "source": [
    "**라이브러리결과값 vs 직접 Numpy로 미분**"
   ]
  },
  {
   "cell_type": "code",
   "execution_count": 34,
   "metadata": {},
   "outputs": [
    {
     "name": "stdout",
     "output_type": "stream",
     "text": [
      "확률값: [[0.24589705 0.75410295]\n",
      " [0.9038899  0.0961101 ]]\n",
      "예측 결과: [1 0]\n"
     ]
    }
   ],
   "source": [
    "import numpy as np\n",
    "from sklearn.linear_model import LogisticRegression\n",
    "\n",
    "# 학습 데이터셋 정의\n",
    "X_train = np.array([[6], [5], [4], [3], [2], [1]])\n",
    "y_train = np.array([1, 1, 1, 0, 0, 0])\n",
    "\n",
    "# 모델 생성 및 학습\n",
    "clf = LogisticRegression()\n",
    "clf.fit(X_train, y_train)\n",
    "\n",
    "# 확률값과 클래스 예측\n",
    "X_test = np.array([[4.5], [1.5]])\n",
    "proba = clf.predict_proba(X_test)\n",
    "y_pred = np.where(proba[:, 1] > 0.3, 1, 0)  # 임계값을 0.3으로 낮춤\n",
    "\n",
    "# 결과 출력\n",
    "print(f\"확률값: {proba}\")\n",
    "print(f\"예측 결과: {y_pred}\")"
   ]
  },
  {
   "cell_type": "code",
   "execution_count": 2,
   "metadata": {},
   "outputs": [],
   "source": [
    "def sigmoid(z):\n",
    "    return 1 / (1 + np.exp(-z))\n",
    "\n",
    "def compute_cost(theta, X, y):\n",
    "    h = sigmoid(X.dot(theta))\n",
    "    cost = (-y * np.log(h) - (1 - y) * np.log(1 - h)).mean()\n",
    "    return cost\n",
    "\n",
    "def gradient_descent(theta, X, y, alpha, epochs):\n",
    "    m = len(y)\n",
    "    J_history = []\n",
    "\n",
    "    for i in range(epochs):\n",
    "        h = sigmoid(X.dot(theta))\n",
    "        theta = theta - alpha * (1 / m) * (X.T.dot(h - y))\n",
    "        J_history.append(compute_cost(theta, X, y))\n",
    "\n",
    "    return theta, J_history"
   ]
  },
  {
   "cell_type": "code",
   "execution_count": 38,
   "metadata": {},
   "outputs": [
    {
     "name": "stdout",
     "output_type": "stream",
     "text": [
      "[[6. 1.]\n",
      " [5. 1.]\n",
      " [4. 1.]\n",
      " [3. 1.]\n",
      " [2. 1.]\n",
      " [1. 1.]]\n",
      "[1 1 1 0 0 0]\n",
      "[[4.5 1. ]\n",
      " [1.5 1. ]]\n",
      "[[0.99885583 0.99885583 0.99885583 0.00114417 0.00114417 0.00114417]\n",
      " [0.936865   0.936865   0.936865   0.063135   0.063135   0.063135  ]]\n",
      "확률값: [[0.99885583 0.99885583 0.99885583 0.00114417 0.00114417 0.00114417]\n",
      " [0.936865   0.936865   0.936865   0.063135   0.063135   0.063135  ]]\n",
      "예측 결과: [[1 1 1 0 0 0]\n",
      " [1 1 1 0 0 0]]\n"
     ]
    }
   ],
   "source": [
    "# 데이터 정의\n",
    "X_train = np.array([[6], [5], [4], [3], [2], [1]])\n",
    "X_train = np.hstack([X_train,np.ones((6, 1))])\n",
    "\n",
    "y_train = np.array([1, 1, 1, 0, 0, 0])\n",
    "\n",
    "print(X_train)\n",
    "print(y_train)\n",
    "\n",
    "# 모델 학습\n",
    "theta = np.zeros((2, 1))\n",
    "alpha = 0.1\n",
    "epochs = 100\n",
    "theta, J_history = gradient_descent(theta, X_train, y_train, alpha, epochs)\n",
    "\n",
    "# 예측\n",
    "X_test = np.array([[4.5], [1.5]])\n",
    "X_test = np.hstack([X_test,np.ones((2, 1))])\n",
    "print(X_test)\n",
    "proba = sigmoid(X_test.dot(theta))\n",
    "print(proba)\n",
    "y_pred = np.where(proba > 0.3, 1, 0)\n",
    "\n",
    "# 결과 출력\n",
    "print(f\"확률값: {proba}\")\n",
    "print(f\"예측 결과: {y_pred}\")"
   ]
  },
  {
   "cell_type": "code",
   "execution_count": 40,
   "metadata": {},
   "outputs": [
    {
     "name": "stdout",
     "output_type": "stream",
     "text": [
      "(2, 2)\n",
      "(2, 6)\n",
      "[[0.99885583 0.99885583 0.99885583 0.00114417 0.00114417 0.00114417]\n",
      " [0.936865   0.936865   0.936865   0.063135   0.063135   0.063135  ]]\n",
      "[[1 1 1 0 0 0]\n",
      " [1 1 1 0 0 0]]\n",
      "(2, 6)\n"
     ]
    }
   ],
   "source": [
    "print(X_test.shape)\n",
    "print(theta.shape)\n",
    "\n",
    "proab = [ \n",
    "    [0.7 ,0.9, 0.9, 0.001, 0.001, 0.00114417] , \n",
    "    [0.9 ,0.9, 0.9, 0.06 , 0.063, 0.063135  ]\n",
    "]\n",
    "print(proba)\n",
    "y_pred = np.where(proba > 0.3, 1, 0)\n",
    "print(y_pred)\n",
    "print(theta.shape)"
   ]
  }
 ],
 "metadata": {
  "kernelspec": {
   "display_name": "Python 3.9.13 ('base')",
   "language": "python",
   "name": "python3"
  },
  "language_info": {
   "codemirror_mode": {
    "name": "ipython",
    "version": 3
   },
   "file_extension": ".py",
   "mimetype": "text/x-python",
   "name": "python",
   "nbconvert_exporter": "python",
   "pygments_lexer": "ipython3",
   "version": "3.9.13"
  },
  "orig_nbformat": 4,
  "vscode": {
   "interpreter": {
    "hash": "ad2bdc8ecc057115af97d19610ffacc2b4e99fae6737bb82f5d7fb13d2f2c186"
   }
  }
 },
 "nbformat": 4,
 "nbformat_minor": 2
}
