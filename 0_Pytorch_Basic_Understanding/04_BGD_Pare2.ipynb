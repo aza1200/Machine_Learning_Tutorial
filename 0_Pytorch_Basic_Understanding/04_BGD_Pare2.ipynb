{
 "cells": [
  {
   "cell_type": "code",
   "execution_count": 47,
   "metadata": {},
   "outputs": [],
   "source": [
    "# https://wikidocs.net/37406 \n",
    "\n",
    "import torch\n",
    "import torch.nn as nn\n",
    "import torch.optim as optim"
   ]
  },
  {
   "cell_type": "code",
   "execution_count": 48,
   "metadata": {},
   "outputs": [
    {
     "name": "stdout",
     "output_type": "stream",
     "text": [
      "MyNeuralNetwork(\n",
      "  (layer1): Sequential(\n",
      "    (0): Linear(in_features=2, out_features=2, bias=False)\n",
      "    (1): Sigmoid()\n",
      "  )\n",
      "  (layer2): Sequential(\n",
      "    (0): Linear(in_features=2, out_features=2, bias=False)\n",
      "    (1): Sigmoid()\n",
      "  )\n",
      ")\n"
     ]
    }
   ],
   "source": [
    "# 신경망 정의\n",
    "class MyNeuralNetwork(nn.Module):\n",
    "    def __init__(self):\n",
    "        super(MyNeuralNetwork, self).__init__()\n",
    "        layer_1=nn.Linear(in_features=2, out_features=2, bias=False)\n",
    "        weight_1 = torch.tensor([[.3,.25],[.4, .35]])\n",
    "        \n",
    "        layer_1.weight = nn.Parameter(weight_1)\n",
    "        self.layer1 = nn.Sequential(\n",
    "            layer_1,\n",
    "            nn.Sigmoid()\n",
    "        )\n",
    "        \n",
    "        layer_2 = nn.Linear(in_features=2, out_features=2, bias=False)\n",
    "        weight_2 = torch.tensor([[.45, .4],[.7, .6]])\n",
    "        \n",
    "        layer_2.weight = nn.Parameter(weight_2)\n",
    "        self.layer2 = nn.Sequential(\n",
    "            layer_2,\n",
    "            nn.Sigmoid()\n",
    "        )\n",
    "    \n",
    "    def forward(self, input):\n",
    "        output = self.layer1(input)\n",
    "        output = self.layer2(output)\n",
    "        \n",
    "        return output\n",
    "    \n",
    "model = MyNeuralNetwork().to(\"cpu\")\n",
    "print(model)"
   ]
  },
  {
   "cell_type": "code",
   "execution_count": 49,
   "metadata": {},
   "outputs": [
    {
     "name": "stdout",
     "output_type": "stream",
     "text": [
      "output value : tensor([[0.6094, 0.6638]], grad_fn=<SigmoidBackward0>)\n",
      "loss value : 0.02397189661860466\n"
     ]
    }
   ],
   "source": [
    "# 순전파 정의 및 구현\n",
    "input = torch.tensor([0.1,0.2]).reshape(1,-1)\n",
    "target = torch.tensor([0.4,0.6]).reshape(1,-1)\n",
    "\n",
    "out = model(input)\n",
    "print(f\"output value : {out}\")\n",
    "\n",
    "criterion = nn.MSELoss()\n",
    "loss = criterion(out, target)\n",
    "print(f\"loss value : {loss}\")\n"
   ]
  },
  {
   "cell_type": "code",
   "execution_count": 45,
   "metadata": {},
   "outputs": [
    {
     "name": "stdout",
     "output_type": "stream",
     "text": [
      "↓ layer1.weight before backward propagation ↓\n",
      "Parameter containing:\n",
      "tensor([[0.3000, 0.2500],\n",
      "        [0.4000, 0.3500]], requires_grad=True)\n",
      "Parameter containing:\n",
      "tensor([[0.4500, 0.4000],\n",
      "        [0.7000, 0.6000]], requires_grad=True)\n",
      "\n",
      "↓ layer1.weight after backward propagation ↓\n",
      "Parameter containing:\n",
      "tensor([[0.3000, 0.2500],\n",
      "        [0.4000, 0.3500]], requires_grad=True)\n",
      "Parameter containing:\n",
      "tensor([[0.4500, 0.4000],\n",
      "        [0.7000, 0.6000]], requires_grad=True)\n"
     ]
    }
   ],
   "source": [
    "# 연전파 시켜보기 -> 경사하강법 역사 정리\n",
    "\n",
    "model.zero_grad() \n",
    "print('↓ layer1.weight before backward propagation ↓')\n",
    "print(model._modules['layer1']._modules['0'].weight)\n",
    "print(model._modules['layer2']._modules['0'].weight)\n",
    "print()\n",
    "\n",
    "loss.backward() # where can I put the learning late in back propagation.\n",
    "print('↓ layer1.weight after backward propagation ↓')\n",
    "print(model._modules['layer1']._modules['0'].weight)\n",
    "print(model._modules['layer2']._modules['0'].weight)"
   ]
  },
  {
   "cell_type": "code",
   "execution_count": null,
   "metadata": {},
   "outputs": [],
   "source": [
    "optimizer = optim.SGD(model.parameters(), lr=0.5)\n",
    "loss = nn.MSELoss()\n",
    "\n",
    "epochs = 1\n",
    "for epoch in range(epochs):\n",
    "    optimizer.zero_grad()\n",
    "    \n",
    "    estimated_y = model(input)\n",
    "    loss = loss(target, estimated_y)\n",
    "    loss.backward()\n",
    "    optimizer.step()"
   ]
  }
 ],
 "metadata": {
  "kernelspec": {
   "display_name": "Python 3.9.13 ('base')",
   "language": "python",
   "name": "python3"
  },
  "language_info": {
   "codemirror_mode": {
    "name": "ipython",
    "version": 3
   },
   "file_extension": ".py",
   "mimetype": "text/x-python",
   "name": "python",
   "nbconvert_exporter": "python",
   "pygments_lexer": "ipython3",
   "version": "3.9.13"
  },
  "orig_nbformat": 4,
  "vscode": {
   "interpreter": {
    "hash": "ad2bdc8ecc057115af97d19610ffacc2b4e99fae6737bb82f5d7fb13d2f2c186"
   }
  }
 },
 "nbformat": 4,
 "nbformat_minor": 2
}
