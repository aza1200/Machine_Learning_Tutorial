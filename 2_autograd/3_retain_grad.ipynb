{
 "cells": [
  {
   "cell_type": "code",
   "execution_count": 36,
   "metadata": {},
   "outputs": [
    {
     "name": "stdout",
     "output_type": "stream",
     "text": [
      "tensor([2., 4., 0., 0., 0., 0.])\n",
      "tensor([10.])\n"
     ]
    }
   ],
   "source": [
    "# https://stackoverflow.com/questions/73698041/how-retain-grad-in-pytorch-works-i-found-its-position-changes-the-grad-result\n",
    "\n",
    "import torch\n",
    "a = torch.tensor([1.], requires_grad=True)\n",
    "y = torch.zeros((6)) \n",
    "gt = torch.zeros((6))\n",
    "\n",
    "y[0] = a\n",
    "y[1] = y[0] * 2\n",
    "y.retain_grad()\n",
    "loss = torch.sum((y-gt) ** 2)\n",
    "loss.backward()\n",
    "print(y.grad)\n",
    "print(a.grad)"
   ]
  },
  {
   "cell_type": "code",
   "execution_count": 8,
   "metadata": {},
   "outputs": [
    {
     "name": "stdout",
     "output_type": "stream",
     "text": [
      "tensor([1., 0., 0., 0., 0., 0., 0., 0., 0., 0.], grad_fn=<CopySlices>)\n",
      "tensor([1., 2., 0., 0., 0., 0., 0., 0., 0., 0.], grad_fn=<CopySlices>)\n",
      "tensor(1., grad_fn=<SelectBackward0>)\n",
      "tensor(2., grad_fn=<SelectBackward0>)\n",
      "tensor(0., grad_fn=<SelectBackward0>)\n",
      "tensor([10.,  0.,  0.,  0.,  0.,  0.,  0.,  0.,  0.,  0.])\n"
     ]
    }
   ],
   "source": [
    "import torch\n",
    "a = torch.tensor([1.], requires_grad=True)\n",
    "y = torch.zeros((10))\n",
    "gt = torch.zeros((10))\n",
    "\n",
    "y[0] = a\n",
    "print(y)\n",
    "y.retain_grad()\n",
    "y[1] = y[0] * 2\n",
    "print(y)\n",
    "print(y[0])\n",
    "print(y[1])\n",
    "print(y[3])\n",
    "\n",
    "loss = torch.sum((y-gt) ** 2)\n",
    "loss.backward()\n",
    "print(y.grad)"
   ]
  },
  {
   "cell_type": "code",
   "execution_count": null,
   "metadata": {},
   "outputs": [],
   "source": []
  }
 ],
 "metadata": {
  "kernelspec": {
   "display_name": "Python 3.9.13 ('base')",
   "language": "python",
   "name": "python3"
  },
  "language_info": {
   "codemirror_mode": {
    "name": "ipython",
    "version": 3
   },
   "file_extension": ".py",
   "mimetype": "text/x-python",
   "name": "python",
   "nbconvert_exporter": "python",
   "pygments_lexer": "ipython3",
   "version": "3.9.13"
  },
  "orig_nbformat": 4,
  "vscode": {
   "interpreter": {
    "hash": "ad2bdc8ecc057115af97d19610ffacc2b4e99fae6737bb82f5d7fb13d2f2c186"
   }
  }
 },
 "nbformat": 4,
 "nbformat_minor": 2
}
