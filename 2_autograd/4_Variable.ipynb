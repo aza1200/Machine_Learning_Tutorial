{
 "cells": [
  {
   "cell_type": "code",
   "execution_count": null,
   "metadata": {},
   "outputs": [],
   "source": [
    "# 참고 사이트 : https://subinium.github.io/pytorch-Tensor-Variable/\n",
    "\n",
    "# torch.autograd.Variable\n",
    "# torch.Tensor\n",
    "\n",
    "# Tensor 와 Variable 은 2018년에 합쳐진 class 로 이제는 Tensor\n",
    "# 로 통합됨. 기존에는 Variable 에서 gradient 를 자동으로\n",
    "# 계산해주는 역할을 해주었지만, 이제는 Tensor 가 그 기능을 할수있게 됨\n",
    "\n"
   ]
  }
 ],
 "metadata": {
  "language_info": {
   "name": "python"
  },
  "orig_nbformat": 4
 },
 "nbformat": 4,
 "nbformat_minor": 2
}
