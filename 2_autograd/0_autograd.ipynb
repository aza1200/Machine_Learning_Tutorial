{
 "cells": [
  {
   "cell_type": "code",
   "execution_count": 8,
   "metadata": {},
   "outputs": [],
   "source": [
    "# 자동 미분엔진인 torch.autograd 를 학습하면서 \n",
    "# autograd 가 신경망 학습을 어떻게 돕는지 배워보자.\n",
    "\n",
    "import torch\n",
    "\n",
    "a = torch.tensor([2. ,3.], requires_grad=True)\n",
    "b = torch.tensor([6., 4. ], requires_grad=True)\n",
    "# requires_grad = True 는 autograd 에 모든 연산(operation)들을 추적해야 한다고\n",
    "# 알려준다. \n",
    "a.retain_grad()\n",
    "b.retain_grad()\n",
    "\n",
    "# retain_grad 는 https://stackoverflow.com/questions/73698041/how-retain-grad-in-pytorch-works-i-found-its-position-changes-the-grad-result\n",
    "# 이거 참조해도 좋고 따로 실습 페이지를 만드는 게 좋을듯 \n",
    "\n",
    "Q = 3*a**3 - b**2"
   ]
  },
  {
   "cell_type": "code",
   "execution_count": 13,
   "metadata": {},
   "outputs": [
    {
     "name": "stdout",
     "output_type": "stream",
     "text": [
      "tensor([180., 405.])\n",
      "tensor([-60., -40.])\n"
     ]
    }
   ],
   "source": [
    "# a,b 모두 신경망의 매개변수이고, Q가 오차라고 가정해보자.\n",
    "\n",
    "# Q 에 대해서 backward 호출시 autograd 는 이러한 변화도들을 계산 한후에\n",
    "# 각텐서의 .grad 속성 에 이러한 변화도를 저장한다. \n",
    "\n",
    "# Q 는 벡터이므로 스칼라로 변환후 전달해야한다.\n",
    "# backward 는 역전파 과정을 위한 함수라고 이해하면 될것 같고 loss 에대해서\n",
    "# 자동미분하기 위한 것으로 보자\n",
    "\n",
    "# gradient 속성은 각각의 미분 값(계수) 에다가 몇을 곱할지 느낌으로 이해하자 \n",
    "# retain_graph=True 는 \n",
    "\n",
    "external_grad = torch.tensor([1., 1.])\n",
    "Q.backward(gradient=external_grad, retain_graph=True)\n",
    "print(a.grad)\n",
    "print(b.grad)\n",
    "\n",
    "\n",
    "# "
   ]
  },
  {
   "cell_type": "code",
   "execution_count": null,
   "metadata": {},
   "outputs": [],
   "source": []
  }
 ],
 "metadata": {
  "kernelspec": {
   "display_name": "Python 3.9.13 ('base')",
   "language": "python",
   "name": "python3"
  },
  "language_info": {
   "codemirror_mode": {
    "name": "ipython",
    "version": 3
   },
   "file_extension": ".py",
   "mimetype": "text/x-python",
   "name": "python",
   "nbconvert_exporter": "python",
   "pygments_lexer": "ipython3",
   "version": "3.9.13"
  },
  "orig_nbformat": 4,
  "vscode": {
   "interpreter": {
    "hash": "ad2bdc8ecc057115af97d19610ffacc2b4e99fae6737bb82f5d7fb13d2f2c186"
   }
  }
 },
 "nbformat": 4,
 "nbformat_minor": 2
}
