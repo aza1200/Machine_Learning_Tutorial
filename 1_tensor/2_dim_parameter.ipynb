{
 "cells": [
  {
   "cell_type": "code",
   "execution_count": 3,
   "metadata": {},
   "outputs": [],
   "source": [
    "# dim parameter 를 붕괴 관점에서 바라보는 글 링크 \n",
    "# https://towardsdatascience.com/understanding-dimensions-in-pytorch-6edf9972d3be\n",
    "\n",
    "import torch\n",
    "import numpy as np"
   ]
  },
  {
   "cell_type": "code",
   "execution_count": 6,
   "metadata": {},
   "outputs": [
    {
     "name": "stdout",
     "output_type": "stream",
     "text": [
      "<class 'numpy.ndarray'>\n",
      "tensor([5, 7, 9])\n"
     ]
    }
   ],
   "source": [
    "np_a = np.array([[1,2,3],[4,5,6]])\n",
    "torch_a = torch.tensor([[1,2,3],[4,5,6]])\n",
    "\n",
    "print(\"numpy sum axis=0 으로 할시 결과: \",np_a.sum(axis=0)) # 에측값 [6,15] # 결과값 [5,7,9]   # numpy.ndarray 반환\n",
    "print(\"torch.sum dim=0 으로 할시 결과: \",torch_a.sum(dim=0)) # 예측값 [6,15] # 결과값 [5,7,9] # tensor 반환 \n",
    " "
   ]
  },
  {
   "cell_type": "code",
   "execution_count": 7,
   "metadata": {},
   "outputs": [
    {
     "name": "stdout",
     "output_type": "stream",
     "text": [
      "y.shape : torch.Size([3, 2, 3])\n",
      "dim=0 로할시 sum shape : torch.Size([2, 3])\n",
      "dim=1 로할시 sum shape : torch.Size([3, 3])\n",
      "dim=2 로할시 sum shape : torch.Size([3, 2])\n"
     ]
    }
   ],
   "source": [
    "y = torch.tensor([\n",
    "    [[1,2,3],[4,5,6]],\n",
    "    [[2,3,4],[5,6,7]],\n",
    "    [[3,4,5],[6,7,8]]\n",
    "])\n",
    "\n",
    "print(f\"y.shape : {y.shape}\")\n",
    "print(f\"dim=0 로할시 sum shape : {y.sum(dim=0).shape}\")\n",
    "print(f\"dim=1 로할시 sum shape : {y.sum(dim=1).shape}\")\n",
    "print(f\"dim=2 로할시 sum shape : {y.sum(dim=2).shape}\")"
   ]
  },
  {
   "cell_type": "code",
   "execution_count": null,
   "metadata": {},
   "outputs": [],
   "source": []
  }
 ],
 "metadata": {
  "kernelspec": {
   "display_name": "Python 3.9.13 ('base')",
   "language": "python",
   "name": "python3"
  },
  "language_info": {
   "codemirror_mode": {
    "name": "ipython",
    "version": 3
   },
   "file_extension": ".py",
   "mimetype": "text/x-python",
   "name": "python",
   "nbconvert_exporter": "python",
   "pygments_lexer": "ipython3",
   "version": "3.9.13"
  },
  "orig_nbformat": 4,
  "vscode": {
   "interpreter": {
    "hash": "ad2bdc8ecc057115af97d19610ffacc2b4e99fae6737bb82f5d7fb13d2f2c186"
   }
  }
 },
 "nbformat": 4,
 "nbformat_minor": 2
}
