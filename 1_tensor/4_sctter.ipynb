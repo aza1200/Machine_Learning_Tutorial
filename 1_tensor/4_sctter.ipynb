{
 "cells": [
  {
   "cell_type": "code",
   "execution_count": 2,
   "metadata": {},
   "outputs": [],
   "source": [
    "# 공식 문서 \n",
    "# https://pytorch.org/docs/stable/generated/torch.Tensor.scatter_.html#torch.Tensor.scatter_\n",
    "\n",
    "# src 텐서 안의 value를 scatter 하는것이다.\n",
    "# src 텐서를 돌면서 input 텐서안에 그것들의 위치를 찾아서 고침"
   ]
  },
  {
   "cell_type": "code",
   "execution_count": 5,
   "metadata": {},
   "outputs": [
    {
     "name": "stdout",
     "output_type": "stream",
     "text": [
      "tensor([[ 1.,  7.,  8.,  4.,  5.],\n",
      "        [ 0.,  2.,  0.,  9.,  0.],\n",
      "        [ 6.,  0.,  3.,  0., 10.]])\n"
     ]
    }
   ],
   "source": [
    "# Graphical Diagram for dim = 0\n",
    "# https://yuyangyy.medium.com/understand-torch-scatter-b0fd6275331c\n",
    "\n",
    "import torch\n",
    "import numpy as np\n",
    "\n",
    "src = torch.from_numpy(np.arange(1, 11)).float().view(2, 5)\n",
    "input_tensor = torch.zeros(3, 5)\n",
    "index_tensor = torch.tensor(\n",
    "    [[0, 1, 2, 0, 0], \n",
    "     [2, 0, 0, 1, 2]]\n",
    ")\n",
    "dim = 0\n",
    "\n",
    "print(input_tensor.scatter_(dim, index_tensor, src))\n",
    "# input tensor 는 변화할 값이니 일단두고 \n",
    "# src 와 index 의 관계가 너무 궁금하다...\n",
    "\n",
    "# dim = 0 일시 index tensor 에서의 value 는 row index 를 나타낸다.\n",
    "# 여기서 알수있는 사실은 \n",
    "# index tensor 의 max value 는 input row 의 갯수보다 작다. \n",
    "\n",
    "# 1 2 3 4 5 \n",
    "# 6 7 8 9 10 \n",
    "# 에서 1 ,6  =>  0,2\n",
    "#      2, 7  =>  1,0 등으로 각각 옮겨줌\n"
   ]
  },
  {
   "cell_type": "code",
   "execution_count": 6,
   "metadata": {},
   "outputs": [
    {
     "name": "stdout",
     "output_type": "stream",
     "text": [
      "tensor([[ 2.,  4.,  3.,  1.,  5.],\n",
      "        [ 7., 10.,  6.,  9.,  0.],\n",
      "        [ 0.,  0.,  0.,  0.,  0.]])\n"
     ]
    }
   ],
   "source": [
    "# Graphical Diagram for dim = 1\n",
    "# https://yuyangyy.medium.com/understand-torch-scatter-b0fd6275331c\n",
    "\n",
    "src = torch.from_numpy(np.arange(1, 11)).float().view(2, 5)\n",
    "input_tensor = torch.zeros(3, 5)\n",
    "index_tensor = torch.tensor([[3, 0, 2, 1, 4], [2, 0, 1, 3, 1]])\n",
    "dim = 1\n",
    "print(input_tensor.scatter_(dim, index_tensor, src))\n",
    "\n",
    "# src의 1번열은  1, 2, 3, 4, 5 \n",
    "# index 의       3  0  2  1 4 에 맞춰서\n",
    "# 1은 3열, 2는 0열 3은 2열 이런식으로 맞춘다..."
   ]
  },
  {
   "cell_type": "code",
   "execution_count": 7,
   "metadata": {},
   "outputs": [
    {
     "name": "stdout",
     "output_type": "stream",
     "text": [
      "tensor([[4],\n",
      "        [0],\n",
      "        [1]])\n",
      "tensor([[ 1.,  2.,  3.,  4.,  0.],\n",
      "        [ 0.,  7.,  8.,  9., 10.],\n",
      "        [11.,  0., 13., 14., 15.]])\n"
     ]
    }
   ],
   "source": [
    "# Graphical Diagram for a Trickier Example \n",
    "\n",
    "# src = value 이고 \n",
    "# size of the index tensor < input tensor dimension\n",
    "\n",
    "input_tensor = torch.from_numpy(np.arange(1, 16)).float().view(3, 5) # dim is 2\n",
    "# unsqueeze to have dim = 2\n",
    "index_tensor = torch.tensor([4, 0, 1]).unsqueeze(1) \n",
    "print(index_tensor)\n",
    "src = 0 # use broadcasted version which has same size as the index tensor\n",
    "dim = 1 # scatter\n",
    "print(input_tensor.scatter_(dim, index_tensor, src))"
   ]
  },
  {
   "cell_type": "code",
   "execution_count": 9,
   "metadata": {},
   "outputs": [
    {
     "name": "stdout",
     "output_type": "stream",
     "text": [
      "tensor([[0., 0., 0., 0., 1.],\n",
      "        [1., 0., 0., 0., 0.],\n",
      "        [0., 1., 0., 0., 0.]])\n"
     ]
    }
   ],
   "source": [
    "# 개인수행\n",
    "# 그렇다면 scatter 를 이용하여 one-hot vector 를 표현하는 방법은?\n",
    "\n",
    "input_tensor = torch.zeros(3, 5)\n",
    "index_tensor = torch.tensor([4, 0, 1]).unsqueeze(1)\n",
    "src = 1\n",
    "dim = 1\n",
    "\n",
    "print(input_tensor.scatter_(dim, index_tensor, src))"
   ]
  },
  {
   "cell_type": "code",
   "execution_count": null,
   "metadata": {},
   "outputs": [],
   "source": []
  }
 ],
 "metadata": {
  "kernelspec": {
   "display_name": "Python 3.9.13 ('base')",
   "language": "python",
   "name": "python3"
  },
  "language_info": {
   "codemirror_mode": {
    "name": "ipython",
    "version": 3
   },
   "file_extension": ".py",
   "mimetype": "text/x-python",
   "name": "python",
   "nbconvert_exporter": "python",
   "pygments_lexer": "ipython3",
   "version": "3.9.13"
  },
  "orig_nbformat": 4,
  "vscode": {
   "interpreter": {
    "hash": "ad2bdc8ecc057115af97d19610ffacc2b4e99fae6737bb82f5d7fb13d2f2c186"
   }
  }
 },
 "nbformat": 4,
 "nbformat_minor": 2
}
